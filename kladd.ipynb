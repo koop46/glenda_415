{
 "cells": [
  {
   "cell_type": "code",
   "execution_count": 4,
   "metadata": {},
   "outputs": [],
   "source": [
    "from ollama import Client\n",
    "\n",
    "def glenda_talk(prompt):\n",
    "    \n",
    "    client = Client(host='http://localhost:11434')\n",
    "    response = client.chat(\n",
    "    model='qwen2.5', \n",
    "    messages=[ {'role': 'user',\n",
    "    'content': prompt}], \n",
    "    stream=True)\n",
    "\n",
    "    res_list = ''\n",
    "    for chunk in response:\n",
    "        res_list += chunk['message']['content']\n",
    "\n",
    "    return res_list\n",
    "\n"
   ]
  },
  {
   "cell_type": "code",
   "execution_count": null,
   "metadata": {},
   "outputs": [
    {
     "data": {
      "text/plain": [
       "'Hello! How can I assist you today?'"
      ]
     },
     "execution_count": 4,
     "metadata": {},
     "output_type": "execute_result"
    }
   ],
   "source": [
    "glenda_talk(\"hey there?\")\n",
    "\n"
   ]
  },
  {
   "cell_type": "code",
   "execution_count": null,
   "metadata": {},
   "outputs": [],
   "source": [
    "from sqlalchemy import create_engine\n",
    "from sqlalchemy.engine import URL\n",
    "import pandas as pd\n",
    "\n",
    "class Connect:\n",
    "    def __init__(self, host, user, password, db):\n",
    "        self.host = host\n",
    "        self.user = user\n",
    "        self.password = password\n",
    "        self.db = db\n",
    "\n",
    "        driver = \"SQL Server\"\n",
    "\n",
    "        connection_string = f'DRIVER={driver};SERVER={self.host};PORT=1433;DATABASE={self.db};UID={self.user};PWD={self.password};&autocommit=true'\n",
    "        connection_url = URL.create(\"mssql+pyodbc\", query={\"odbc_connect\": connection_string})\n",
    "        self.engine = create_engine(connection_url, use_setinputsizes = False, echo = False)\n",
    "\n",
    "        self.db_connection = self.engine.connect()\n",
    "    \n",
    "    def fetch_data(self, query):\n",
    "        return pd.read_sql(query, con=self.db_connection)\n",
    "    \n",
    "    def insert_data(self, df, tablename):\n",
    "        df.to_sql(tablename, if_exists = 'append', index = False, con = self.db_connection)\n",
    "\n",
    "    def __del__(self):\n",
    "        try:\n",
    "            self.db_connection.close()\n",
    "        except:\n",
    "            None\n",
    "    \n",
    "\n",
    "connector = Connect('MSI', \"\", \"\", 'Glenda_DB')\n",
    "\n",
    "\n",
    "\n"
   ]
  },
  {
   "cell_type": "code",
   "execution_count": null,
   "metadata": {},
   "outputs": [
    {
     "data": {
      "text/html": [
       "<div>\n",
       "<style scoped>\n",
       "    .dataframe tbody tr th:only-of-type {\n",
       "        vertical-align: middle;\n",
       "    }\n",
       "\n",
       "    .dataframe tbody tr th {\n",
       "        vertical-align: top;\n",
       "    }\n",
       "\n",
       "    .dataframe thead th {\n",
       "        text-align: right;\n",
       "    }\n",
       "</style>\n",
       "<table border=\"1\" class=\"dataframe\">\n",
       "  <thead>\n",
       "    <tr style=\"text-align: right;\">\n",
       "      <th></th>\n",
       "      <th>usr_id</th>\n",
       "      <th>user_firstname</th>\n",
       "      <th>user_surname</th>\n",
       "      <th>user_location</th>\n",
       "      <th>user_phone_nr</th>\n",
       "      <th>user_email</th>\n",
       "    </tr>\n",
       "  </thead>\n",
       "  <tbody>\n",
       "    <tr>\n",
       "      <th>0</th>\n",
       "      <td>1</td>\n",
       "      <td>John</td>\n",
       "      <td>Doe</td>\n",
       "      <td>Downtown</td>\n",
       "      <td>555-123-4567</td>\n",
       "      <td>john.doe@example.com</td>\n",
       "    </tr>\n",
       "    <tr>\n",
       "      <th>1</th>\n",
       "      <td>2</td>\n",
       "      <td>Jane</td>\n",
       "      <td>Smith</td>\n",
       "      <td>Uptown</td>\n",
       "      <td>555-234-5678</td>\n",
       "      <td>jane.smith@example.com</td>\n",
       "    </tr>\n",
       "    <tr>\n",
       "      <th>2</th>\n",
       "      <td>3</td>\n",
       "      <td>Mike</td>\n",
       "      <td>Brown</td>\n",
       "      <td>Suburbia</td>\n",
       "      <td>555-345-6789</td>\n",
       "      <td>mike.brown@example.com</td>\n",
       "    </tr>\n",
       "  </tbody>\n",
       "</table>\n",
       "</div>"
      ],
      "text/plain": [
       "   usr_id user_firstname user_surname user_location user_phone_nr  \\\n",
       "0       1           John          Doe      Downtown  555-123-4567   \n",
       "1       2           Jane        Smith        Uptown  555-234-5678   \n",
       "2       3           Mike        Brown      Suburbia  555-345-6789   \n",
       "\n",
       "               user_email  \n",
       "0    john.doe@example.com  \n",
       "1  jane.smith@example.com  \n",
       "2  mike.brown@example.com  "
      ]
     },
     "execution_count": 16,
     "metadata": {},
     "output_type": "execute_result"
    }
   ],
   "source": [
    "connector.fetch_data('select * from Stores') \n"
   ]
  },
  {
   "cell_type": "code",
   "execution_count": 17,
   "metadata": {},
   "outputs": [
    {
     "name": "stdout",
     "output_type": "stream",
     "text": [
      "Test koop46\n"
     ]
    }
   ],
   "source": [
    "print(\"Test koop46\")"
   ]
  }
 ],
 "metadata": {
  "kernelspec": {
   "display_name": "Python 3",
   "language": "python",
   "name": "python3"
  },
  "language_info": {
   "codemirror_mode": {
    "name": "ipython",
    "version": 3
   },
   "file_extension": ".py",
   "mimetype": "text/x-python",
   "name": "python",
   "nbconvert_exporter": "python",
   "pygments_lexer": "ipython3",
   "version": "3.13.0"
  }
 },
 "nbformat": 4,
 "nbformat_minor": 2
}
