{
 "cells": [
  {
   "cell_type": "code",
   "execution_count": 6,
   "metadata": {},
   "outputs": [],
   "source": [
    "from ollama import Client\n",
    "\n",
    "def glenda_talk(prompt):\n",
    "    \n",
    "    client = Client(host='http://localhost:11434')\n",
    "    response = client.chat(\n",
    "    model='qwen2.5', \n",
    "    messages=[ {'role': 'user',\n",
    "    'content': prompt}], \n",
    "    stream=True)\n",
    "\n",
    "    res_list = ''\n",
    "    for chunk in response:\n",
    "        res_list += chunk['message']['content']\n",
    "\n",
    "    return res_list\n",
    "\n"
   ]
  },
  {
   "cell_type": "code",
   "execution_count": null,
   "metadata": {},
   "outputs": [],
   "source": [
    "glenda_talk(\"does SQL server always run in the background?\")\n",
    "\n",
    "\n"
   ]
  },
  {
   "cell_type": "code",
   "execution_count": null,
   "metadata": {},
   "outputs": [],
   "source": []
  }
 ],
 "metadata": {
  "kernelspec": {
   "display_name": "Python 3",
   "language": "python",
   "name": "python3"
  },
  "language_info": {
   "codemirror_mode": {
    "name": "ipython",
    "version": 3
   },
   "file_extension": ".py",
   "mimetype": "text/x-python",
   "name": "python",
   "nbconvert_exporter": "python",
   "pygments_lexer": "ipython3",
   "version": "3.13.0"
  }
 },
 "nbformat": 4,
 "nbformat_minor": 2
}
